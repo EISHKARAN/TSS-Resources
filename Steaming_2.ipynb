{
  "cells": [
    {
      "cell_type": "markdown",
      "metadata": {
        "id": "view-in-github",
        "colab_type": "text"
      },
      "source": [
        "<a href=\"https://colab.research.google.com/github/EISHKARAN/TSS-Resources/blob/main/Steaming_2.ipynb\" target=\"_parent\"><img src=\"https://colab.research.google.com/assets/colab-badge.svg\" alt=\"Open In Colab\"/></a>"
      ]
    },
    {
      "cell_type": "markdown",
      "metadata": {
        "id": "sa6O75cMlCHP"
      },
      "source": [
        "#### About\n",
        "\n",
        "Stemming involve reduction of a word to its word stem and is vital to various tasks of NLP, NLU.\n",
        "\n",
        "General rule of thumb\n",
        "\n",
        "Reduce the suffix to following\n",
        "\n",
        "1. SSES - SS\n",
        "2. S - NULL\n",
        "3. IES - I\n",
        "4. SS - SS\n",
        "5. LY - LI\n",
        "\n",
        "* Porter Algorithm is the most common algorithm deployed in NLP/NLU tasks for Stemming.\n",
        "* Lancaster Stemming which stems based on the last letter of the words also exists, But is often computationally expensive.\n",
        "* Lovins Stemmer on the other hand is a single pass, context sensitive stemmer which removes ending based on the longest match principle.\n",
        "\n",
        "Snowball Stemmer is mostly deployed for stemming."
      ]
    },
    {
      "cell_type": "code",
      "execution_count": null,
      "metadata": {
        "colab": {
          "base_uri": "https://localhost:8080/"
        },
        "id": "RIbMByUMlCHS",
        "outputId": "f972ee19-a170-4b39-9b11-8c5a46750d42"
      },
      "outputs": [
        {
          "output_type": "stream",
          "name": "stdout",
          "text": [
            "Original Word: program & Stem: program\n",
            "Original Word: programming & Stem: program\n",
            "Original Word: programmer & Stem: programm\n",
            "Original Word: programmed & Stem: program\n",
            "Original Word: programmatically & Stem: programmat\n"
          ]
        }
      ],
      "source": [
        "from nltk.stem import PorterStemmer\n",
        "from nltk.tokenize import word_tokenize\n",
        "\n",
        "stemmer = PorterStemmer()\n",
        "\n",
        "words = [\"program\",\"programming\",\"programmer\",\"programmed\",\"programmatically\"]\n",
        "\n",
        "for word in words:\n",
        "    print((\"Original Word: {} & Stem: {}\").format(word,stemmer.stem(word)))"
      ]
    },
    {
      "cell_type": "code",
      "source": [
        "import nltk\n",
        "\n",
        "nltk.download('punkt')\n"
      ],
      "metadata": {
        "colab": {
          "base_uri": "https://localhost:8080/"
        },
        "id": "BOY1FA8WlpBk",
        "outputId": "555b0d72-04b4-47d3-c59b-c77c864288ba"
      },
      "execution_count": null,
      "outputs": [
        {
          "output_type": "stream",
          "name": "stderr",
          "text": [
            "[nltk_data] Downloading package punkt to /root/nltk_data...\n",
            "[nltk_data]   Unzipping tokenizers/punkt.zip.\n"
          ]
        },
        {
          "output_type": "execute_result",
          "data": {
            "text/plain": [
              "True"
            ]
          },
          "metadata": {},
          "execution_count": 8
        }
      ]
    },
    {
      "cell_type": "code",
      "execution_count": null,
      "metadata": {
        "colab": {
          "base_uri": "https://localhost:8080/"
        },
        "id": "tvc8TjT0lCHV",
        "outputId": "d1ab02b3-4ff8-4558-85ae-12474529e49f"
      },
      "outputs": [
        {
          "output_type": "stream",
          "name": "stdout",
          "text": [
            "Original Word: Only & Stem: onli\n",
            "Original Word: a & Stem: a\n",
            "Original Word: troubled & Stem: troubl\n",
            "Original Word: programmer & Stem: programm\n",
            "Original Word: uses & Stem: use\n",
            "Original Word: troubling & Stem: troubl\n",
            "Original Word: methods & Stem: method\n",
            "Original Word: of & Stem: of\n",
            "Original Word: programming & Stem: program\n",
            "Original Word: to & Stem: to\n",
            "Original Word: write & Stem: write\n",
            "Original Word: a & Stem: a\n",
            "Original Word: better & Stem: better\n",
            "Original Word: program & Stem: program\n",
            "Original Word: with & Stem: with\n",
            "Original Word: which & Stem: which\n",
            "Original Word: others & Stem: other\n",
            "Original Word: are & Stem: are\n",
            "Original Word: not & Stem: not\n",
            "Original Word: troubled & Stem: troubl\n"
          ]
        }
      ],
      "source": [
        "from nltk.tokenize import word_tokenize\n",
        "from nltk.stem import PorterStemmer\n",
        "\n",
        "sentence = \"Only a troubled programmer uses troubling methods of programming to write a better program with which others are not troubled\"\n",
        "words = word_tokenize(sentence)\n",
        "\n",
        "stemmer = PorterStemmer()\n",
        "\n",
        "for word in words:\n",
        "    print((\"Original Word: {} & Stem: {}\").format(word, stemmer.stem(word)))\n"
      ]
    },
    {
      "cell_type": "code",
      "execution_count": null,
      "metadata": {
        "colab": {
          "base_uri": "https://localhost:8080/"
        },
        "id": "eIKTZLE_lCHW",
        "outputId": "a4781425-ea95-4c66-ce1b-1142e2f4e859"
      },
      "outputs": [
        {
          "output_type": "stream",
          "name": "stdout",
          "text": [
            "Original Word: program & Stem: program\n",
            "Original Word: programming & Stem: program\n",
            "Original Word: programmer & Stem: programm\n",
            "Original Word: programmed & Stem: program\n",
            "Original Word: programmatically & Stem: programmat\n"
          ]
        }
      ],
      "source": [
        "# similarly in place of porter stemmer we can use Snowball stemmer\n",
        "# let's compare the result of snowball stemmer.MARTIN_EXTENSIONS\n",
        "from nltk.stem import SnowballStemmer\n",
        "from nltk.tokenize import word_tokenize\n",
        "\n",
        "snowball_stemmer = SnowballStemmer('english')\n",
        "words = [\"program\",\"programming\",\"programmer\",\"programmed\",\"programmatically\"]\n",
        "\n",
        "for word in words:\n",
        "    print((\"Original Word: {} & Stem: {}\").format(word,snowball_stemmer.stem(word)))"
      ]
    },
    {
      "cell_type": "code",
      "execution_count": null,
      "metadata": {
        "colab": {
          "base_uri": "https://localhost:8080/"
        },
        "id": "XLZAgKs4lCHX",
        "outputId": "71723722-5942-4e13-88b6-cb6ac386dd96"
      },
      "outputs": [
        {
          "output_type": "stream",
          "name": "stdout",
          "text": [
            "Original Word: Only & Stem: onli\n",
            "Original Word: a & Stem: a\n",
            "Original Word: troubled & Stem: troubl\n",
            "Original Word: programmer & Stem: programm\n",
            "Original Word: uses & Stem: use\n",
            "Original Word: troubling & Stem: troubl\n",
            "Original Word: methods & Stem: method\n",
            "Original Word: of & Stem: of\n",
            "Original Word: programming & Stem: program\n",
            "Original Word: to & Stem: to\n",
            "Original Word: write & Stem: write\n",
            "Original Word: a & Stem: a\n",
            "Original Word: better & Stem: better\n",
            "Original Word: program & Stem: program\n",
            "Original Word: with & Stem: with\n",
            "Original Word: which & Stem: which\n",
            "Original Word: others & Stem: other\n",
            "Original Word: are & Stem: are\n",
            "Original Word: not & Stem: not\n",
            "Original Word: troubled & Stem: troubl\n"
          ]
        }
      ],
      "source": [
        "sentence = \"Only a troubled programmer uses troubling methods of programming to write a better program with which others are not troubled\"\n",
        "words = word_tokenize(sentence)\n",
        "\n",
        "for word in words:\n",
        "    print((\"Original Word: {} & Stem: {}\").format(word,snowball_stemmer.stem(word)))"
      ]
    },
    {
      "cell_type": "markdown",
      "metadata": {
        "id": "D_hvC4bQlCHY"
      },
      "source": [
        "Same results from both porter stemmer and Snowball stemmer.\n",
        "Let's evaluate Lancaster Stemmer."
      ]
    },
    {
      "cell_type": "code",
      "execution_count": null,
      "metadata": {
        "colab": {
          "base_uri": "https://localhost:8080/"
        },
        "id": "BPtujt5wlCHZ",
        "outputId": "80ff55a4-cd92-4417-b3c7-2093e877bca4"
      },
      "outputs": [
        {
          "output_type": "stream",
          "name": "stdout",
          "text": [
            "Original Word: program & Stem: program\n",
            "Original Word: programming & Stem: program\n",
            "Original Word: programmer & Stem: program\n",
            "Original Word: programmed & Stem: program\n",
            "Original Word: programmatically & Stem: program\n"
          ]
        }
      ],
      "source": [
        "from nltk.stem import LancasterStemmer\n",
        "from nltk.tokenize import word_tokenize\n",
        "\n",
        "lancaster_stemmer = LancasterStemmer()\n",
        "words = [\"program\",\"programming\",\"programmer\",\"programmed\",\"programmatically\"]\n",
        "\n",
        "for word in words:\n",
        "    print((\"Original Word: {} & Stem: {}\").format(word,lancaster_stemmer.stem(word)))"
      ]
    },
    {
      "cell_type": "code",
      "execution_count": null,
      "metadata": {
        "colab": {
          "base_uri": "https://localhost:8080/"
        },
        "id": "f8-WK-AklCHa",
        "outputId": "7d653b71-80fa-4caa-886f-c512a6131432"
      },
      "outputs": [
        {
          "output_type": "stream",
          "name": "stdout",
          "text": [
            "Original Word: Only & Stem: on\n",
            "Original Word: a & Stem: a\n",
            "Original Word: troubled & Stem: troubl\n",
            "Original Word: programmer & Stem: program\n",
            "Original Word: uses & Stem: us\n",
            "Original Word: troubling & Stem: troubl\n",
            "Original Word: methods & Stem: method\n",
            "Original Word: of & Stem: of\n",
            "Original Word: programming & Stem: program\n",
            "Original Word: to & Stem: to\n",
            "Original Word: write & Stem: writ\n",
            "Original Word: a & Stem: a\n",
            "Original Word: better & Stem: bet\n",
            "Original Word: program & Stem: program\n",
            "Original Word: with & Stem: with\n",
            "Original Word: which & Stem: which\n",
            "Original Word: others & Stem: oth\n",
            "Original Word: are & Stem: ar\n",
            "Original Word: not & Stem: not\n",
            "Original Word: troubled & Stem: troubl\n"
          ]
        }
      ],
      "source": [
        "sentence = \"Only a troubled programmer uses troubling methods of programming to write a better program with which others are not troubled\"\n",
        "words = word_tokenize(sentence)\n",
        "\n",
        "for word in words:\n",
        "    print((\"Original Word: {} & Stem: {}\").format(word,lancaster_stemmer.stem(word)))"
      ]
    },
    {
      "cell_type": "markdown",
      "metadata": {
        "id": "cw2dILijlCHb"
      },
      "source": [
        "We can observe that the results of Lancaster Stemmer looks different than the previous ones.\n",
        "\n",
        "Similarly, We can use Porter2, Paice-Husk and Lovins Stemming algorithms.\n",
        "\n",
        "<a href=\"https://www.scientificpsychic.com/paice/paice.html\">Relevant Links </a>"
      ]
    }
  ],
  "metadata": {
    "kernelspec": {
      "display_name": "dl",
      "language": "python",
      "name": "python3"
    },
    "language_info": {
      "codemirror_mode": {
        "name": "ipython",
        "version": 3
      },
      "file_extension": ".py",
      "mimetype": "text/x-python",
      "name": "python",
      "nbconvert_exporter": "python",
      "pygments_lexer": "ipython3",
      "version": "3.7.11 (default, Jul 27 2021, 14:32:16) \n[GCC 7.5.0]"
    },
    "orig_nbformat": 4,
    "vscode": {
      "interpreter": {
        "hash": "50052c996937e9a0e161d422489677fdaadc23d756ac209b7397e80e5ea8cea0"
      }
    },
    "colab": {
      "provenance": [],
      "include_colab_link": true
    }
  },
  "nbformat": 4,
  "nbformat_minor": 0
}