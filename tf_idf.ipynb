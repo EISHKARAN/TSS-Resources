{
  "cells": [
    {
      "cell_type": "markdown",
      "metadata": {
        "id": "view-in-github",
        "colab_type": "text"
      },
      "source": [
        "<a href=\"https://colab.research.google.com/github/EISHKARAN/TSS-Resources/blob/main/tf_idf.ipynb\" target=\"_parent\"><img src=\"https://colab.research.google.com/assets/colab-badge.svg\" alt=\"Open In Colab\"/></a>"
      ]
    },
    {
      "cell_type": "markdown",
      "metadata": {
        "id": "Ants81rroG2S"
      },
      "source": [
        "#### About\n",
        "In this notebook, We will understand Term frequency - Inverse document frequency. Before heading into the implementation, Let's understand important terms.\n",
        "\n",
        "1. Frequency - This illustrates how often a given word appears within a text document.\n",
        "2. Document Frequency- It's a concept that gives low relevance to word appearing multiple times in the documents.\n",
        "3. Inverse Document Frequency(IDF)- It's a weight factor. The more frequent a word's usage is encountered in the document, Lower shall be the score and thus less important shall be the word.\n",
        "\n",
        "\n",
        "TF-IDF in collection, is a measure to reflect how important a word is to a document in a collection or corpus."
      ]
    },
    {
      "cell_type": "code",
      "execution_count": null,
      "metadata": {
        "id": "BDTRWosCoG2X"
      },
      "outputs": [],
      "source": [
        " # let's understand this via 2 examples.\n",
        "text1 = \"The food is cooked by the maid in the kitchen\"\n",
        "text2 = \"The delicacy is cooked by the shef in the kitchen\""
      ]
    },
    {
      "cell_type": "markdown",
      "metadata": {
        "id": "UshWxIgQoG2Z"
      },
      "source": [
        "The formula for Tf and IDF is given below\n",
        "\n",
        "TF(i,j) = Term i frequency in document j / Total words in document j\n",
        "\n",
        "IDF(i) = log base 2 (total documents/documents with term i)\n",
        "\n",
        "TF(i,j)* IDF(i) = Tf-idf\n"
      ]
    },
    {
      "cell_type": "code",
      "execution_count": null,
      "metadata": {
        "id": "2Qv3kVDzoG2a"
      },
      "outputs": [],
      "source": [
        "from sklearn.feature_extraction.text import TfidfVectorizer"
      ]
    },
    {
      "cell_type": "code",
      "execution_count": null,
      "metadata": {
        "id": "kqJXz3FvoG2b"
      },
      "outputs": [],
      "source": [
        "tfidf =TfidfVectorizer()"
      ]
    },
    {
      "cell_type": "code",
      "execution_count": null,
      "metadata": {
        "id": "d_bXQ6ShoG2b"
      },
      "outputs": [],
      "source": [
        "out = tfidf.fit_transform([text1,text2])"
      ]
    },
    {
      "cell_type": "code",
      "execution_count": null,
      "metadata": {
        "colab": {
          "base_uri": "https://localhost:8080/"
        },
        "id": "rDSKFYO7oG2c",
        "outputId": "c08caf00-170d-4983-8b03-147515ddfba9"
      },
      "outputs": [
        {
          "output_type": "stream",
          "name": "stdout",
          "text": [
            "[[0.23602594 0.23602594 0.         0.33172622 0.23602594 0.23602594\n",
            "  0.23602594 0.33172622 0.         0.70807782]\n",
            " [0.23602594 0.23602594 0.33172622 0.         0.23602594 0.23602594\n",
            "  0.23602594 0.         0.33172622 0.70807782]]\n"
          ]
        }
      ],
      "source": [
        "vector = tfidf.transform([text1,text2])\n",
        "print(vector.toarray())"
      ]
    },
    {
      "cell_type": "code",
      "execution_count": null,
      "metadata": {
        "colab": {
          "base_uri": "https://localhost:8080/"
        },
        "id": "Jk2MCjaXoG2d",
        "outputId": "ac9b7e22-e60f-4fc2-d163-396a8a9ee38a"
      },
      "outputs": [
        {
          "output_type": "stream",
          "name": "stdout",
          "text": [
            "['by' 'cooked' 'delicacy' 'food' 'in' 'is' 'kitchen' 'maid' 'shef' 'the']\n"
          ]
        }
      ],
      "source": [
        "feature_names = tfidf.get_feature_names_out()\n",
        "# Print the feature names\n",
        "print(feature_names)\n"
      ]
    },
    {
      "cell_type": "code",
      "execution_count": null,
      "metadata": {
        "colab": {
          "base_uri": "https://localhost:8080/"
        },
        "id": "qBw7rp1_oG2e",
        "outputId": "c93f9cff-ffa3-4a7d-83f5-bf9fd92e2a08"
      },
      "outputs": [
        {
          "output_type": "stream",
          "name": "stdout",
          "text": [
            "kitchen-0.23602594054740156\n",
            "in-0.23602594054740156\n",
            "maid-0.3317262240477849\n",
            "by-0.23602594054740156\n",
            "cooked-0.23602594054740156\n",
            "is-0.23602594054740156\n",
            "food-0.3317262240477849\n",
            "the-0.7080778216422047\n",
            "shef-0.0\n",
            "delicacy-0.0\n",
            "kitchen-0.23602594054740156\n",
            "in-0.23602594054740156\n",
            "by-0.23602594054740156\n",
            "cooked-0.23602594054740156\n",
            "is-0.23602594054740156\n",
            "the-0.7080778216422047\n"
          ]
        }
      ],
      "source": [
        "for col in out.nonzero()[1]:\n",
        "    print(str(feature_names[col]) +\"-\"+ str(out[0,col]))"
      ]
    },
    {
      "cell_type": "code",
      "execution_count": null,
      "metadata": {
        "colab": {
          "base_uri": "https://localhost:8080/"
        },
        "id": "7auYA7q3oG2f",
        "outputId": "53bc4df6-492e-4361-915a-23d5c8e9427c"
      },
      "outputs": [
        {
          "output_type": "execute_result",
          "data": {
            "text/plain": [
              "array([1.        , 1.        , 1.40546511, 1.40546511, 1.        ,\n",
              "       1.        , 1.        , 1.40546511, 1.40546511, 1.        ])"
            ]
          },
          "metadata": {},
          "execution_count": 20
        }
      ],
      "source": [
        "# printing the inverse document frequency.\n",
        "tfidf.idf_"
      ]
    }
  ],
  "metadata": {
    "kernelspec": {
      "display_name": "dl",
      "language": "python",
      "name": "python3"
    },
    "language_info": {
      "codemirror_mode": {
        "name": "ipython",
        "version": 3
      },
      "file_extension": ".py",
      "mimetype": "text/x-python",
      "name": "python",
      "nbconvert_exporter": "python",
      "pygments_lexer": "ipython3",
      "version": "3.7.11"
    },
    "orig_nbformat": 4,
    "vscode": {
      "interpreter": {
        "hash": "50052c996937e9a0e161d422489677fdaadc23d756ac209b7397e80e5ea8cea0"
      }
    },
    "colab": {
      "provenance": [],
      "include_colab_link": true
    }
  },
  "nbformat": 4,
  "nbformat_minor": 0
}