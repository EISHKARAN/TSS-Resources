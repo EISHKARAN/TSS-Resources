{
  "cells": [
    {
      "cell_type": "markdown",
      "metadata": {
        "id": "view-in-github",
        "colab_type": "text"
      },
      "source": [
        "<a href=\"https://colab.research.google.com/github/EISHKARAN/TSS-Resources/blob/main/Lemmatization_2.ipynb\" target=\"_parent\"><img src=\"https://colab.research.google.com/assets/colab-badge.svg\" alt=\"Open In Colab\"/></a>"
      ]
    },
    {
      "cell_type": "markdown",
      "metadata": {
        "id": "cPsDTJxtmodN"
      },
      "source": [
        "#### About\n",
        "Lemmatisation (or lemmatization) in linguistics is the process of grouping together the inflected forms of a word so they can be analysed as a single item, identified by the word's lemma, or dictionary form. <a href=\"https://en.wikipedia.org/wiki/Lemmatisation\"> Link </a>\n",
        "\n",
        "For eg -\n",
        "Worked - Work\n",
        "Working - Work\n",
        "Works - Work"
      ]
    },
    {
      "cell_type": "markdown",
      "metadata": {
        "id": "PNixD8D_moda"
      },
      "source": [
        "* Why do we need Lemmatisation ?\n",
        "\n",
        "- We need lemmatisation to reach the base form of a word in a sentence. Decreasing computational overload can also be regarded as its use case. Suppose a text has work, works, worked, working in it then since NLP converts each text into a vector so, we will have 4 vectors for the text but through lemmatisation, we can end up having just one for the base form."
      ]
    },
    {
      "cell_type": "code",
      "execution_count": null,
      "metadata": {
        "id": "Fzk4LqXomodb"
      },
      "outputs": [],
      "source": [
        "import spacy\n",
        "nlp = spacy.load('en_core_web_sm')"
      ]
    },
    {
      "cell_type": "code",
      "execution_count": null,
      "metadata": {
        "id": "B4CsWVLNmode"
      },
      "outputs": [],
      "source": [
        "text = \"The boy was going for a trip where he could say that he hiked, danced, sung, swam, surfed and cooked.\""
      ]
    },
    {
      "cell_type": "code",
      "execution_count": null,
      "metadata": {
        "colab": {
          "base_uri": "https://localhost:8080/"
        },
        "id": "FT735O0Smodf",
        "outputId": "5294805a-a306-4bf3-9746-8bd53448ea11"
      },
      "outputs": [
        {
          "output_type": "stream",
          "name": "stdout",
          "text": [
            "Text - The and its lemma is the\n",
            "Text - boy and its lemma is boy\n",
            "Text - was and its lemma is be\n",
            "Text - going and its lemma is go\n",
            "Text - for and its lemma is for\n",
            "Text - a and its lemma is a\n",
            "Text - trip and its lemma is trip\n",
            "Text - where and its lemma is where\n",
            "Text - he and its lemma is he\n",
            "Text - could and its lemma is could\n",
            "Text - say and its lemma is say\n",
            "Text - that and its lemma is that\n",
            "Text - he and its lemma is he\n",
            "Text - hiked and its lemma is hike\n",
            "Text - , and its lemma is ,\n",
            "Text - danced and its lemma is danced\n",
            "Text - , and its lemma is ,\n",
            "Text - sung and its lemma is sung\n",
            "Text - , and its lemma is ,\n",
            "Text - swam and its lemma is swam\n",
            "Text - , and its lemma is ,\n",
            "Text - surfed and its lemma is surfed\n",
            "Text - and and its lemma is and\n",
            "Text - cooked and its lemma is cook\n",
            "Text - . and its lemma is .\n"
          ]
        }
      ],
      "source": [
        "output = nlp(text)\n",
        "for token in output:\n",
        "    print(\"Text - {} and its lemma is {}\".format(token.text, token.lemma_))"
      ]
    },
    {
      "cell_type": "markdown",
      "metadata": {
        "id": "SHTvCTvgmodh"
      },
      "source": [
        "For much better accuracy, We can use LemmInflect which has outperformed its accuracy with respect to various lemmatisers in NLTK,Spacy,Stanford CoreNLP and CLiPS.\n",
        "\n",
        "<a href=\"https://github.com/bjascob/LemmInflect\"> Link </a>"
      ]
    },
    {
      "cell_type": "code",
      "execution_count": null,
      "metadata": {
        "colab": {
          "base_uri": "https://localhost:8080/"
        },
        "id": "cQzntbNSmodi",
        "outputId": "b0a388bf-1a56-4f76-f47d-927c94ca9b18"
      },
      "outputs": [
        {
          "output_type": "stream",
          "name": "stdout",
          "text": [
            "Collecting lemminflect\n",
            "  Downloading lemminflect-0.2.3-py3-none-any.whl (769 kB)\n",
            "\u001b[?25l     \u001b[90m━━━━━━━━━━━━━━━━━━━━━━━━━━━━━━━━━━━━━━━━\u001b[0m \u001b[32m0.0/769.7 kB\u001b[0m \u001b[31m?\u001b[0m eta \u001b[36m-:--:--\u001b[0m\r\u001b[2K     \u001b[91m━━━━━━━━━━\u001b[0m\u001b[90m╺\u001b[0m\u001b[90m━━━━━━━━━━━━━━━━━━━━━━━━━━━━\u001b[0m \u001b[32m204.8/769.7 kB\u001b[0m \u001b[31m5.9 MB/s\u001b[0m eta \u001b[36m0:00:01\u001b[0m\r\u001b[2K     \u001b[90m━━━━━━━━━━━━━━━━━━━━━━━━━━━━━━━━━━━━━━\u001b[0m \u001b[32m769.7/769.7 kB\u001b[0m \u001b[31m11.1 MB/s\u001b[0m eta \u001b[36m0:00:00\u001b[0m\n",
            "\u001b[?25hRequirement already satisfied: numpy in /usr/local/lib/python3.10/dist-packages (from lemminflect) (1.22.4)\n",
            "Installing collected packages: lemminflect\n",
            "Successfully installed lemminflect-0.2.3\n"
          ]
        }
      ],
      "source": [
        "!pip install lemminflect"
      ]
    },
    {
      "cell_type": "markdown",
      "metadata": {
        "id": "2stni0rMmodj"
      },
      "source": [
        "It's integrated with Spacy, too.\n",
        "<a href=\"https://spacy.io/universe/project/lemminflect\"> Link </a>"
      ]
    },
    {
      "cell_type": "code",
      "execution_count": null,
      "metadata": {
        "colab": {
          "base_uri": "https://localhost:8080/"
        },
        "id": "aqX0O1jfmodj",
        "outputId": "be5a4bc2-2591-4f21-fd3d-b7e9604bdbd8"
      },
      "outputs": [
        {
          "output_type": "stream",
          "name": "stdout",
          "text": [
            "Text - He and its lemma is He\n",
            "Text - went and its lemma is go\n",
            "Text - to and its lemma is to\n",
            "Text - a and its lemma is a\n",
            "Text - trip and its lemma is trip\n",
            "Text - to and its lemma is to\n",
            "Text - later and its lemma is later\n",
            "Text - brag and its lemma is brag\n",
            "Text - that and its lemma is that\n",
            "Text - he and its lemma is he\n",
            "Text - hiked and its lemma is hike\n",
            "Text - , and its lemma is ,\n",
            "Text - swam and its lemma is swam\n",
            "Text - , and its lemma is ,\n",
            "Text - danced and its lemma is danced\n",
            "Text - , and its lemma is ,\n",
            "Text - sang and its lemma is sang\n",
            "Text - , and its lemma is ,\n",
            "Text - ran and its lemma is run\n",
            "Text - and and its lemma is and\n",
            "Text - cooked and its lemma is cook\n",
            "Text - . and its lemma is .\n"
          ]
        }
      ],
      "source": [
        "# let's evaluate an example\n",
        "\n",
        "import lemminflect\n",
        "doc = nlp('He went to a trip to later brag that he hiked, swam, danced, sang, ran and cooked.')\n",
        "\n",
        "for token in doc:\n",
        "    print(\"Text - {} and its lemma is {}\".format(token.text, token._.lemma()))"
      ]
    }
  ],
  "metadata": {
    "kernelspec": {
      "display_name": "dl",
      "language": "python",
      "name": "python3"
    },
    "language_info": {
      "codemirror_mode": {
        "name": "ipython",
        "version": 3
      },
      "file_extension": ".py",
      "mimetype": "text/x-python",
      "name": "python",
      "nbconvert_exporter": "python",
      "pygments_lexer": "ipython3",
      "version": "3.7.11"
    },
    "orig_nbformat": 4,
    "vscode": {
      "interpreter": {
        "hash": "50052c996937e9a0e161d422489677fdaadc23d756ac209b7397e80e5ea8cea0"
      }
    },
    "colab": {
      "provenance": [],
      "include_colab_link": true
    }
  },
  "nbformat": 4,
  "nbformat_minor": 0
}